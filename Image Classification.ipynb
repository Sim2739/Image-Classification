{
 "cells": [
  {
   "cell_type": "code",
   "execution_count": 1,
   "id": "7ddc77f5-5648-4b53-bba9-9340e79e75e0",
   "metadata": {},
   "outputs": [],
   "source": [
    "import numpy as np\n",
    "from PIL import Image\n",
    "\n",
    "import torch\n",
    "import torch.nn as nn\n",
    "import torch.nn.functional as F\n",
    "import torch.optim as optim\n",
    "\n",
    "import torchvision\n",
    "import torchvision.transforms as transforms"
   ]
  },
  {
   "cell_type": "code",
   "execution_count": 2,
   "id": "ac5b4cd9-aaa6-4515-b2f9-2f4af016495b",
   "metadata": {},
   "outputs": [],
   "source": [
    "transform = transforms.Compose([\n",
    "    transforms.ToTensor(),\n",
    "    transforms.Normalize((0.5, 0.5, 0.5), (0.5, 0.5, 0.5))\n",
    "])\n",
    "   "
   ]
  },
  {
   "cell_type": "code",
   "execution_count": 3,
   "id": "b256cb10-2477-40bf-b265-b9d541179abb",
   "metadata": {},
   "outputs": [
    {
     "name": "stdout",
     "output_type": "stream",
     "text": [
      "Files already downloaded and verified\n",
      "Files already downloaded and verified\n"
     ]
    }
   ],
   "source": [
    "train_data = torchvision.datasets.CIFAR10(root = './data', train = True, transform = transform, download = True)\n",
    "test_data = torchvision.datasets.CIFAR10(root = './data', train = False, transform = transform, download = True)\n",
    "\n",
    "train_loader = torch.utils.data.DataLoader(train_data, batch_size = 32, shuffle = True, num_workers = 2)\n",
    "test_loader = torch.utils.data.DataLoader(test_data, batch_size = 32, shuffle = True, num_workers = 2)"
   ]
  },
  {
   "cell_type": "code",
   "execution_count": 4,
   "id": "c953be01-67cd-4ba9-8b4b-fd8d93de92e5",
   "metadata": {},
   "outputs": [],
   "source": [
    "image, label = train_data[0]"
   ]
  },
  {
   "cell_type": "code",
   "execution_count": 5,
   "id": "d946c5f9-3e9e-46e0-8e42-b38d9452b1cc",
   "metadata": {},
   "outputs": [
    {
     "data": {
      "text/plain": [
       "torch.Size([3, 32, 32])"
      ]
     },
     "execution_count": 5,
     "metadata": {},
     "output_type": "execute_result"
    }
   ],
   "source": [
    "image.size()"
   ]
  },
  {
   "cell_type": "code",
   "execution_count": 6,
   "id": "58681aba-b73b-4dd8-970c-f2ea87090284",
   "metadata": {},
   "outputs": [],
   "source": [
    "class_names = [ 'plane', 'car', 'cat', 'deer', 'dog', 'frog', 'horse', 'ship', 'truck']"
   ]
  },
  {
   "cell_type": "code",
   "execution_count": 7,
   "id": "2e8f033f-7697-4888-8051-3433a26c4887",
   "metadata": {},
   "outputs": [],
   "source": [
    "class NeuralNet(nn.Module):\n",
    "\n",
    "    def __init__(self):\n",
    "     super().__init__()\n",
    "\n",
    "     self.conv1 = nn.Conv2d(3, 12, 5)  # (12,28,28)\n",
    "     self.pool = nn.MaxPool2d(2,2)  # (12,14,14)\n",
    "     self.conv2 = nn.Conv2d(12, 24, 5)  # (24,10,10) -> (24, 5,5 ) -> Flatten(24*5*5)\n",
    "     self.fc1 = nn.Linear(24*5*5, 120) \n",
    "     self.fc2 = nn.Linear(120, 84)\n",
    "     self.fc3 = nn.Linear(84,10) \n",
    "\n",
    "    def forward(self, x):\n",
    "     x = self.pool(F.relu(self.conv1(x)))\n",
    "     x = self.pool(F.relu(self.conv2(x)))\n",
    "     x = torch.flatten(x, 1)\n",
    "     x = F.relu(self.fc1(x))\n",
    "     x = F.relu(self.fc2(x))\n",
    "     x = self.fc3(x)\n",
    "     return x\n",
    "    "
   ]
  },
  {
   "cell_type": "code",
   "execution_count": 8,
   "id": "5964f589-cf33-4228-86e3-a98c0862935d",
   "metadata": {},
   "outputs": [],
   "source": [
    "net = NeuralNet()\n",
    "loss_function = nn.CrossEntropyLoss()\n",
    "optimizer = optim.SGD(net.parameters(), lr=0.001, momentum = 0.9)"
   ]
  },
  {
   "cell_type": "code",
   "execution_count": 9,
   "id": "a825c956-f022-48bc-8a69-3874b2401a5d",
   "metadata": {},
   "outputs": [
    {
     "name": "stdout",
     "output_type": "stream",
     "text": [
      "Training epoch 0...\n",
      "Loss: 2.2464\n",
      "Training epoch 1...\n",
      "Loss: 1.7858\n",
      "Training epoch 2...\n",
      "Loss: 1.5141\n",
      "Training epoch 3...\n",
      "Loss: 1.3920\n",
      "Training epoch 4...\n",
      "Loss: 1.3075\n",
      "Training epoch 5...\n",
      "Loss: 1.2311\n",
      "Training epoch 6...\n",
      "Loss: 1.1529\n",
      "Training epoch 7...\n",
      "Loss: 1.0947\n",
      "Training epoch 8...\n",
      "Loss: 1.0478\n",
      "Training epoch 9...\n",
      "Loss: 1.0008\n",
      "Training epoch 10...\n",
      "Loss: 0.9612\n",
      "Training epoch 11...\n",
      "Loss: 0.9246\n",
      "Training epoch 12...\n",
      "Loss: 0.8869\n",
      "Training epoch 13...\n",
      "Loss: 0.8566\n",
      "Training epoch 14...\n",
      "Loss: 0.8264\n",
      "Training epoch 15...\n",
      "Loss: 0.7973\n",
      "Training epoch 16...\n",
      "Loss: 0.7682\n",
      "Training epoch 17...\n",
      "Loss: 0.7423\n",
      "Training epoch 18...\n",
      "Loss: 0.7119\n",
      "Training epoch 19...\n",
      "Loss: 0.6906\n",
      "Training epoch 20...\n",
      "Loss: 0.6653\n",
      "Training epoch 21...\n",
      "Loss: 0.6445\n",
      "Training epoch 22...\n",
      "Loss: 0.6181\n",
      "Training epoch 23...\n",
      "Loss: 0.5968\n",
      "Training epoch 24...\n",
      "Loss: 0.5750\n",
      "Training epoch 25...\n",
      "Loss: 0.5555\n",
      "Training epoch 26...\n",
      "Loss: 0.5372\n",
      "Training epoch 27...\n",
      "Loss: 0.5157\n",
      "Training epoch 28...\n",
      "Loss: 0.4940\n",
      "Training epoch 29...\n",
      "Loss: 0.4755\n"
     ]
    }
   ],
   "source": [
    "for epoch in range(30):\n",
    " print(f'Training epoch {epoch}...')\n",
    " running_loss = 0.0\n",
    "\n",
    " for i,  data in enumerate(train_loader):\n",
    "  inputs, labels = data\n",
    "  optimizer.zero_grad()\n",
    "  outputs = net(inputs)\n",
    "  loss = loss_function(outputs, labels)\n",
    "  loss.backward()\n",
    "  optimizer.step()\n",
    "  running_loss += loss.item()\n",
    "    \n",
    " print(f'Loss:{running_loss/len(train_loader): .4f}')\n"
   ]
  },
  {
   "cell_type": "code",
   "execution_count": 10,
   "id": "7f1e2035-9f2d-4f4b-b681-d2e420fcf4af",
   "metadata": {},
   "outputs": [],
   "source": [
    "torch.save(net.state_dict(), 'trained_net.pth')\n"
   ]
  },
  {
   "cell_type": "code",
   "execution_count": 13,
   "id": "1e73d2a0-6743-43d0-b9a4-541a9914ed6c",
   "metadata": {},
   "outputs": [
    {
     "data": {
      "text/plain": [
       "<All keys matched successfully>"
      ]
     },
     "execution_count": 13,
     "metadata": {},
     "output_type": "execute_result"
    }
   ],
   "source": [
    "\n",
    "net = NeuralNet()\n",
    "\n",
    "net.load_state_dict(torch.load('trained_net.pth', weights_only = True))\n",
    "\n"
   ]
  },
  {
   "cell_type": "code",
   "execution_count": 17,
   "id": "ab47b58c-1435-4579-ad71-9203749e05f4",
   "metadata": {},
   "outputs": [
    {
     "name": "stdout",
     "output_type": "stream",
     "text": [
      "Accuracy: 67.79%\n"
     ]
    }
   ],
   "source": [
    "correct = 0\n",
    "total = 0\n",
    "\n",
    "net.eval()\n",
    "\n",
    "with torch.no_grad():\n",
    "    for data in test_loader:\n",
    "     images, labels = data\n",
    "     outputs = net(images)\n",
    "     _, predicted = torch.max(outputs, 1)\n",
    "     total += labels.size(0)\n",
    "     correct += (predicted == labels).sum().item()\n",
    "\n",
    "accuracy = 100*correct/total\n",
    "\n",
    "print(f'Accuracy: {accuracy}%')"
   ]
  },
  {
   "cell_type": "code",
   "execution_count": 30,
   "id": "7f2dacdc-a285-42c7-b2b0-e3d8e50b5d3d",
   "metadata": {},
   "outputs": [
    {
     "name": "stdout",
     "output_type": "stream",
     "text": [
      "Prediction: plane\n"
     ]
    }
   ],
   "source": [
    "  from PIL import Image\n",
    "  new_transform = transforms.Compose([\n",
    "    transforms.Resize((32, 32)),\n",
    "    transforms.ToTensor(),\n",
    "    transforms.Normalize((0.5, 0.5, 0.5), (0.5, 0.5, 0.50))\n",
    "])\n",
    "\n",
    "def load_image(image_path):\n",
    "    image = Image.open(image_path)\n",
    "    image = new_transform(image)\n",
    "    image = image.unsqueeze(0)\n",
    "    return image\n",
    "\n",
    "image_paths = input('Enter your image path')\n",
    "\n",
    "images = [load_image(img) for img in image_paths]\n",
    "\n",
    "net.eval()\n",
    "\n",
    "with torch.no_grad():\n",
    "    for image in images:\n",
    "     output = net(image)\n",
    "     _, predicted = torch.max(output, 1)\n",
    "     print(f'Prediction: {class_names[predicted.item()]}')\n",
    "\n"
   ]
  },
  {
   "cell_type": "code",
   "execution_count": null,
   "id": "956e23a3-5ead-41df-8a71-ae4b807ae601",
   "metadata": {},
   "outputs": [],
   "source": []
  }
 ],
 "metadata": {
  "kernelspec": {
   "display_name": "Python 3 (ipykernel)",
   "language": "python",
   "name": "python3"
  },
  "language_info": {
   "codemirror_mode": {
    "name": "ipython",
    "version": 3
   },
   "file_extension": ".py",
   "mimetype": "text/x-python",
   "name": "python",
   "nbconvert_exporter": "python",
   "pygments_lexer": "ipython3",
   "version": "3.12.6"
  }
 },
 "nbformat": 4,
 "nbformat_minor": 5
}
